{
 "cells": [
  {
   "attachments": {},
   "cell_type": "markdown",
   "metadata": {},
   "source": [
    "# Test Transquest"
   ]
  },
  {
   "cell_type": "code",
   "execution_count": 1,
   "metadata": {},
   "outputs": [],
   "source": [
    "from metrics import pearsonr_metric, mae_metric, rmse_metric\n",
    "import pandas as pd\n",
    "tquest_df = pd.read_csv(\"output_quest.csv\")"
   ]
  },
  {
   "cell_type": "code",
   "execution_count": 2,
   "metadata": {},
   "outputs": [
    {
     "data": {
      "text/html": [
       "<div>\n",
       "<style scoped>\n",
       "    .dataframe tbody tr th:only-of-type {\n",
       "        vertical-align: middle;\n",
       "    }\n",
       "\n",
       "    .dataframe tbody tr th {\n",
       "        vertical-align: top;\n",
       "    }\n",
       "\n",
       "    .dataframe thead th {\n",
       "        text-align: right;\n",
       "    }\n",
       "</style>\n",
       "<table border=\"1\" class=\"dataframe\">\n",
       "  <thead>\n",
       "    <tr style=\"text-align: right;\">\n",
       "      <th></th>\n",
       "      <th>Unnamed: 0</th>\n",
       "      <th>src</th>\n",
       "      <th>mt</th>\n",
       "      <th>pe</th>\n",
       "      <th>avg_len</th>\n",
       "      <th>mtr_score</th>\n",
       "      <th>ref_len</th>\n",
       "      <th>nst_score</th>\n",
       "      <th>nst_blc_score</th>\n",
       "      <th>final_score</th>\n",
       "      <th>transquest</th>\n",
       "    </tr>\n",
       "  </thead>\n",
       "  <tbody>\n",
       "    <tr>\n",
       "      <th>0</th>\n",
       "      <td>0</td>\n",
       "      <td>José Ortega y Gasset visited Husserl at Freibu...</td>\n",
       "      <td>1934 besuchte José Ortega y Gasset Husserl in ...</td>\n",
       "      <td>José Ortega y Gasset besuchte Husserl in Freib...</td>\n",
       "      <td>12</td>\n",
       "      <td>0.794492</td>\n",
       "      <td>12</td>\n",
       "      <td>3.116148</td>\n",
       "      <td>4.331309</td>\n",
       "      <td>0.808846</td>\n",
       "      <td>0.744348</td>\n",
       "    </tr>\n",
       "    <tr>\n",
       "      <th>1</th>\n",
       "      <td>1</td>\n",
       "      <td>however , a disappointing ninth in China meant...</td>\n",
       "      <td>eine enttäuschende Neunte in China bedeutete j...</td>\n",
       "      <td>ein enttäuschender neunter Platz in China bede...</td>\n",
       "      <td>20</td>\n",
       "      <td>0.903902</td>\n",
       "      <td>20</td>\n",
       "      <td>3.608044</td>\n",
       "      <td>4.174426</td>\n",
       "      <td>0.890099</td>\n",
       "      <td>0.733772</td>\n",
       "    </tr>\n",
       "    <tr>\n",
       "      <th>2</th>\n",
       "      <td>2</td>\n",
       "      <td>in his diary , Chase wrote that the release of...</td>\n",
       "      <td>in seinem Tagebuch , Chase schrieb , dass die ...</td>\n",
       "      <td>in seinem Tagebuch schrieb Chase , dass die Fr...</td>\n",
       "      <td>23</td>\n",
       "      <td>0.782187</td>\n",
       "      <td>23</td>\n",
       "      <td>3.736856</td>\n",
       "      <td>4.120092</td>\n",
       "      <td>0.790553</td>\n",
       "      <td>0.702712</td>\n",
       "    </tr>\n",
       "  </tbody>\n",
       "</table>\n",
       "</div>"
      ],
      "text/plain": [
       "   Unnamed: 0                                                src  \\\n",
       "0           0  José Ortega y Gasset visited Husserl at Freibu...   \n",
       "1           1  however , a disappointing ninth in China meant...   \n",
       "2           2  in his diary , Chase wrote that the release of...   \n",
       "\n",
       "                                                  mt  \\\n",
       "0  1934 besuchte José Ortega y Gasset Husserl in ...   \n",
       "1  eine enttäuschende Neunte in China bedeutete j...   \n",
       "2  in seinem Tagebuch , Chase schrieb , dass die ...   \n",
       "\n",
       "                                                  pe  avg_len  mtr_score  \\\n",
       "0  José Ortega y Gasset besuchte Husserl in Freib...       12   0.794492   \n",
       "1  ein enttäuschender neunter Platz in China bede...       20   0.903902   \n",
       "2  in seinem Tagebuch schrieb Chase , dass die Fr...       23   0.782187   \n",
       "\n",
       "   ref_len  nst_score  nst_blc_score  final_score  transquest  \n",
       "0       12   3.116148       4.331309     0.808846    0.744348  \n",
       "1       20   3.608044       4.174426     0.890099    0.733772  \n",
       "2       23   3.736856       4.120092     0.790553    0.702712  "
      ]
     },
     "execution_count": 2,
     "metadata": {},
     "output_type": "execute_result"
    }
   ],
   "source": [
    "tquest_df.head(3)"
   ]
  },
  {
   "cell_type": "code",
   "execution_count": 3,
   "metadata": {},
   "outputs": [
    {
     "name": "stdout",
     "output_type": "stream",
     "text": [
      "transquest results\n",
      "Mean absolute error: 0.141\n",
      "Root mean squared error: 0.176\n",
      "Pearson correlation coefficient: 0.292\n"
     ]
    }
   ],
   "source": [
    "print(\"transquest results\")\n",
    "print(mae_metric(tquest_df[\"final_score\"],tquest_df[\"transquest\"]))\n",
    "print(rmse_metric(tquest_df[\"final_score\"],tquest_df[\"transquest\"]))\n",
    "print(pearsonr_metric(tquest_df[\"final_score\"],tquest_df[\"transquest\"]))"
   ]
  },
  {
   "cell_type": "code",
   "execution_count": 4,
   "metadata": {},
   "outputs": [
    {
     "name": "stdout",
     "output_type": "stream",
     "text": [
      "transquest results vs mtr_score\n",
      "Mean absolute error: 0.144\n",
      "Root mean squared error: 0.180\n",
      "Pearson correlation coefficient: 0.290\n"
     ]
    }
   ],
   "source": [
    "print(\"transquest results vs mtr_score\")\n",
    "print(mae_metric(tquest_df[\"mtr_score\"],tquest_df[\"transquest\"]))\n",
    "print(rmse_metric(tquest_df[\"mtr_score\"],tquest_df[\"transquest\"]))\n",
    "print(pearsonr_metric(tquest_df[\"mtr_score\"],tquest_df[\"transquest\"]))"
   ]
  },
  {
   "cell_type": "code",
   "execution_count": 5,
   "metadata": {},
   "outputs": [
    {
     "name": "stdout",
     "output_type": "stream",
     "text": [
      "transquest results vs nist \n",
      "Mean absolute error: 0.433\n",
      "Root mean squared error: 0.439\n",
      "Pearson correlation coefficient: 0.171\n"
     ]
    }
   ],
   "source": [
    "print(\"transquest results vs nist \")\n",
    "print(mae_metric(tquest_df[\"nst_score\"]/10,tquest_df[\"transquest\"]))\n",
    "print(rmse_metric(tquest_df[\"nst_score\"]/10,tquest_df[\"transquest\"]))\n",
    "print(pearsonr_metric(tquest_df[\"nst_score\"]/10,tquest_df[\"transquest\"]))"
   ]
  },
  {
   "cell_type": "code",
   "execution_count": 6,
   "metadata": {},
   "outputs": [
    {
     "data": {
      "text/html": [
       "<div>\n",
       "<style scoped>\n",
       "    .dataframe tbody tr th:only-of-type {\n",
       "        vertical-align: middle;\n",
       "    }\n",
       "\n",
       "    .dataframe tbody tr th {\n",
       "        vertical-align: top;\n",
       "    }\n",
       "\n",
       "    .dataframe thead th {\n",
       "        text-align: right;\n",
       "    }\n",
       "</style>\n",
       "<table border=\"1\" class=\"dataframe\">\n",
       "  <thead>\n",
       "    <tr style=\"text-align: right;\">\n",
       "      <th></th>\n",
       "      <th>official</th>\n",
       "      <th>quest++</th>\n",
       "    </tr>\n",
       "  </thead>\n",
       "  <tbody>\n",
       "    <tr>\n",
       "      <th>0</th>\n",
       "      <td>5.0</td>\n",
       "      <td>3.548300</td>\n",
       "    </tr>\n",
       "    <tr>\n",
       "      <th>1</th>\n",
       "      <td>2.5</td>\n",
       "      <td>3.055105</td>\n",
       "    </tr>\n",
       "    <tr>\n",
       "      <th>2</th>\n",
       "      <td>4.5</td>\n",
       "      <td>3.562239</td>\n",
       "    </tr>\n",
       "  </tbody>\n",
       "</table>\n",
       "</div>"
      ],
      "text/plain": [
       "   official   quest++\n",
       "0       5.0  3.548300\n",
       "1       2.5  3.055105\n",
       "2       4.5  3.562239"
      ]
     },
     "execution_count": 6,
     "metadata": {},
     "output_type": "execute_result"
    }
   ],
   "source": [
    "import pandas as pd \n",
    "\n",
    "pred = pd.read_csv(\"./output/predicted_quest++.csv\")\n",
    "pred.head(3)"
   ]
  },
  {
   "cell_type": "code",
   "execution_count": 7,
   "metadata": {},
   "outputs": [
    {
     "name": "stdout",
     "output_type": "stream",
     "text": [
      "quest++ results\n",
      "Mean absolute error: 0.751\n",
      "Root mean squared error: 0.898\n",
      "Pearson correlation coefficient: 0.491\n"
     ]
    }
   ],
   "source": [
    "from metrics import pearsonr_metric, mae_metric, rmse_metric\n",
    "print(\"quest++ results\")\n",
    "print(mae_metric(pred[\"official\"],pred[\"quest++\"]))\n",
    "print(rmse_metric(pred[\"official\"],pred[\"quest++\"]))\n",
    "print(pearsonr_metric(pred[\"official\"],pred[\"quest++\"]))"
   ]
  },
  {
   "cell_type": "code",
   "execution_count": null,
   "metadata": {},
   "outputs": [],
   "source": []
  },
  {
   "attachments": {},
   "cell_type": "markdown",
   "metadata": {},
   "source": [
    "### transquest results\n",
    "- Mean absolute error: 0.141\n",
    "- Root mean squared error: 0.176\n",
    "- Pearson correlation coefficient: 0.292\n",
    "\n",
    "### quest++ results\n",
    "- Mean absolute error: 0.751\n",
    "- Root mean squared error: 0.898\n",
    "- Pearson correlation coefficient: 0.491\n",
    "\n"
   ]
  },
  {
   "cell_type": "code",
   "execution_count": 13,
   "metadata": {},
   "outputs": [
    {
     "data": {
      "image/png": "[encoded data removed]",
      "text/plain": [
       "<Figure size 640x480 with 1 Axes>"
      ]
     },
     "metadata": {},
     "output_type": "display_data"
    }
   ],
   "source": [
    "plot = tquest_df.plot.scatter(x=\"final_score\", y=\"transquest\", title=\"transquest\")"
   ]
  },
  {
   "cell_type": "code",
   "execution_count": 14,
   "metadata": {},
   "outputs": [
    {
     "data": {
      "image/png": "[encoded data removed]",
      "text/plain": [
       "<Figure size 640x480 with 1 Axes>"
      ]
     },
     "metadata": {},
     "output_type": "display_data"
    }
   ],
   "source": [
    "plot = pred.plot.scatter(x=\"official\", y=\"quest++\", title=\"quest++\")"
   ]
  },
  {
   "cell_type": "code",
   "execution_count": null,
   "metadata": {},
   "outputs": [],
   "source": []
  },
  {
   "attachments": {},
   "cell_type": "markdown",
   "metadata": {},
   "source": [
    "# NER : "
   ]
  },
  {
   "cell_type": "code",
   "execution_count": null,
   "metadata": {},
   "outputs": [],
   "source": [
    "import spacy\n",
    "nlp = spacy.load('en_core_web_sm')\n",
    "sentence = \"the president Barack Obama was born in usa after 1950.\"\n",
    "doc = nlp(sentence)\n",
    "\n",
    "for ent in doc.ents:\n",
    "    print(ent.text, ent.label_)"
   ]
  },
  {
   "cell_type": "code",
   "execution_count": 2,
   "metadata": {},
   "outputs": [],
   "source": [
    "list_ent = {\n",
    "    \"PRODUCT\" : \"Adidas\",\n",
    "    \"LOC\" : \"Himalayas\",\n",
    "    \"DATE\" : \"1900\",\n",
    "    \"TIME\" : \"2:30\",\n",
    "    \"MONEY\" : \"$1\",\n",
    "    \"PERSON\" : \"Joe\",\n",
    "    \"ORGANIZATION\" : \"IBM\",\n",
    "    \"GPE\" : \"Paris\",\n",
    "    \"PERCENT\" : \"3%\"\n",
    "}"
   ]
  },
  {
   "cell_type": "code",
   "execution_count": null,
   "metadata": {},
   "outputs": [],
   "source": [
    "spacy.explain(\"PRODUCT\")"
   ]
  },
  {
   "cell_type": "code",
   "execution_count": null,
   "metadata": {},
   "outputs": [],
   "source": [
    "sentence_orig = \"Joe, who works for IBM, is planning a trip to the Himalayas to test his new Adidas hiking shoes that he bought for $1. The trip is scheduled for the year 1900, and he plans to start his hike at 2:30 pm. He hopes to see the beautiful mountain ranges and bodies of water in the region while also enjoying the local culture in Paris, where he will stopover for a few days. He also plans to invest some of his savings, which he hopes will earn him a return of 3%.\"\n",
    "sentence = \"Alex, who works for Apple, is planning a trip to the Alpin montains to test his new Nike hiking shoes that he bought for 25 euros. The trip is scheduled for next year 2000, and he plans to start his hike at 4am. He hopes to see the beautiful mountain ranges and bodies of water in the region while also enjoying the local culture in Munchen, where he will stopover for a few days. He also plans to invest some of his savings, which he hopes will earn him a return of 20 %.\""
   ]
  },
  {
   "cell_type": "code",
   "execution_count": null,
   "metadata": {},
   "outputs": [],
   "source": [
    "nlp = spacy.load('en_core_web_sm')\n",
    "doc = nlp(sentence)\n",
    "\n",
    "for ent in doc.ents:\n",
    "    print(ent.text, ent.label_)"
   ]
  },
  {
   "cell_type": "code",
   "execution_count": null,
   "metadata": {},
   "outputs": [],
   "source": []
  }
 ],
 "metadata": {
  "kernelspec": {
   "display_name": "base",
   "language": "python",
   "name": "python3"
  },
  "language_info": {
   "codemirror_mode": {
    "name": "ipython",
    "version": 3
   },
   "file_extension": ".py",
   "mimetype": "text/x-python",
   "name": "python",
   "nbconvert_exporter": "python",
   "pygments_lexer": "ipython3",
   "version": "3.10.9"
  },
  "orig_nbformat": 4,
  "vscode": {
   "interpreter": {
    "hash": "c3bb05cc2521480d131f401636101c73ff39b5ec6e444b426548f6161152fcd7"
   }
  }
 },
 "nbformat": 4,
 "nbformat_minor": 2
}
