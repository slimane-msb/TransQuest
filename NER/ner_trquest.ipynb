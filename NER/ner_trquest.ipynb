{
  "cells": [
    {
      "cell_type": "markdown",
      "metadata": {
        "id": "gjiM5fACwHXi"
      },
      "source": [
        "# Test Transquest"
      ]
    },
    {
      "cell_type": "code",
      "execution_count": null,
      "metadata": {
        "id": "p3cT5ySAwRoJ"
      },
      "outputs": [],
      "source": [
        "from google.colab import drive\n",
        "drive.mount('/content/drive')"
      ]
    },
    {
      "cell_type": "markdown",
      "source": [],
      "metadata": {
        "id": "j1q3grWRWw3a"
      }
    },
    {
      "cell_type": "markdown",
      "metadata": {
        "id": "-nMpT0WHwHX4"
      },
      "source": [
        "# NER : "
      ]
    },
    {
      "cell_type": "code",
      "execution_count": null,
      "metadata": {
        "id": "5wBDeYKCwHX5"
      },
      "outputs": [],
      "source": [
        "import spacy\n",
        "from spacy.tokens import Span\n"
      ]
    },
    {
      "cell_type": "code",
      "source": [
        "!python -m spacy download en_core_web_trf\n",
        "!python -m spacy download de_core_news_lg"
      ],
      "metadata": {
        "id": "uckCXXjHjDRP"
      },
      "execution_count": null,
      "outputs": []
    },
    {
      "cell_type": "code",
      "source": [
        "!pip install spacy-transformers"
      ],
      "metadata": {
        "id": "T03b4XVAnIdd"
      },
      "execution_count": null,
      "outputs": []
    },
    {
      "cell_type": "code",
      "execution_count": null,
      "metadata": {
        "id": "hhP9U0hWwHX5"
      },
      "outputs": [],
      "source": [
        "import spacy_transformers\n",
        "nlp = spacy.load('en_core_web_trf')\n",
        "nlp_ger = spacy.load('de_core_news_lg') "
      ]
    },
    {
      "cell_type": "code",
      "execution_count": null,
      "metadata": {
        "id": "unk09tHMwHX6"
      },
      "outputs": [],
      "source": [
        "list_ent = {\n",
        "    \"PRODUCT\" : \"product\",\n",
        "    \"LOC\" : \"Himalayas\",\n",
        "    \"DATE\" : \"this year\",\n",
        "    \"TIME\" : \"night\",\n",
        "    \"MONEY\" : \"three dollars\",\n",
        "    \"PERSON\" : \"David\",\n",
        "    \"ORG\" : \"IBM\",\n",
        "    \"GPE\" : \"Paris\",\n",
        "    \"PERCENT\" : \"four percent\",\n",
        "    \"CARDINAL\" : \"three\"\n",
        "}"
      ]
    },
    {
      "cell_type": "code",
      "execution_count": null,
      "metadata": {
        "id": "I_D6c50dwHX6"
      },
      "outputs": [],
      "source": []
    },
    {
      "cell_type": "code",
      "execution_count": null,
      "metadata": {
        "id": "MMJPRgMxwHX7"
      },
      "outputs": [],
      "source": [
        "def edit_ner(sen, nlp, list_ent):\n",
        "    doc = nlp(sen)\n",
        "    new_sentence = \"\"\n",
        "    index_ent = 0 \n",
        "    index_tok = 0\n",
        "    while (index_tok < len(doc)):\n",
        "        token = doc[index_tok]\n",
        "        if token.ent_type_ != '':\n",
        "            l_ent = -(doc.ents[index_ent].start-doc.ents[index_ent].end)\n",
        "            if token.ent_type_ in list_ent:\n",
        "                replacement_word = list_ent[token.ent_type_]\n",
        "                new_sentence += replacement_word \n",
        "            else : \n",
        "                new_sentence += doc.ents[index_ent].text \n",
        "            index_tok+=l_ent\n",
        "            index_ent+=1 \n",
        "        else:\n",
        "            new_sentence += token.text \n",
        "            index_tok+=1\n",
        "\n",
        "        if (index_tok <len(doc) and not doc[index_tok].is_punct):\n",
        "            new_sentence += token.whitespace_\n",
        "    return str(new_sentence)"
      ]
    },
    {
      "cell_type": "code",
      "execution_count": null,
      "metadata": {
        "id": "_WeCwMnzwHX7"
      },
      "outputs": [],
      "source": [
        "list_ent_german = {\n",
        "\"PRODUCT\" : \"Produkt\",\n",
        "\"LOC\" : \"Himalaya\",\n",
        "\"DATE\" : \"dieses Jahr\",\n",
        "\"TIME\" : \"Nacht\",\n",
        "\"MONEY\" : \"drei Dollar\",\n",
        "\"PERSON\" : \"David\",\n",
        "\"ORG\" : \"IBM\",\n",
        "\"GPE\" : \"Paris\",\n",
        "\"PERCENT\" : \"vier Prozent\",\n",
        "\"CARDINAL\" : \"drei\"\n",
        "}"
      ]
    },
    {
      "cell_type": "code",
      "execution_count": null,
      "metadata": {
        "id": "ErdYignfwHX8"
      },
      "outputs": [],
      "source": [
        "import pandas as pd\n",
        "df = pd.read_csv(\"drive/MyDrive/Colab Notebooks/output_quest.csv\")"
      ]
    },
    {
      "cell_type": "code",
      "execution_count": null,
      "metadata": {
        "id": "WHe5zBnLwHX8"
      },
      "outputs": [],
      "source": [
        "df.head(3)"
      ]
    },
    {
      "cell_type": "code",
      "execution_count": null,
      "metadata": {
        "id": "KAH0kqWrwHX8"
      },
      "outputs": [],
      "source": [
        "src_exm = df['src'][0]\n",
        "src_exm"
      ]
    },
    {
      "cell_type": "code",
      "execution_count": null,
      "metadata": {
        "id": "D1eggyEHwHX8"
      },
      "outputs": [],
      "source": [
        "edit_ner(src_exm, nlp, list_ent)"
      ]
    },
    {
      "cell_type": "code",
      "execution_count": null,
      "metadata": {
        "id": "h5ZhxVEWwHX9"
      },
      "outputs": [],
      "source": [
        "mt_exm = df['mt'][0]\n",
        "mt_exm"
      ]
    },
    {
      "cell_type": "code",
      "execution_count": null,
      "metadata": {
        "id": "PMVTnAS0wHX9"
      },
      "outputs": [],
      "source": [
        "edit_ner(mt_exm, nlp_ger, list_ent_german)"
      ]
    },
    {
      "cell_type": "code",
      "source": [
        "doc = nlp(src_exm)\n",
        "print(doc.ents)\n",
        "for token in doc:\n",
        "    print(token.text, token.pos_, token.dep_, token.ent_type_)"
      ],
      "metadata": {
        "id": "hzaDHqISEouL"
      },
      "execution_count": null,
      "outputs": []
    },
    {
      "cell_type": "code",
      "source": [
        "doc = nlp_ger(mt_exm)\n",
        "print(doc.ents)\n",
        "for token in doc:\n",
        "    print(token.text, token.pos_, token.dep_, token.ent_type_)"
      ],
      "metadata": {
        "id": "6MjeokVjDDZL"
      },
      "execution_count": null,
      "outputs": []
    },
    {
      "cell_type": "code",
      "execution_count": null,
      "metadata": {
        "id": "A7e7iuF1wHX9"
      },
      "outputs": [],
      "source": [
        "df_tmp = df.head(5)\n",
        "df_tmp"
      ]
    },
    {
      "cell_type": "code",
      "execution_count": null,
      "metadata": {
        "id": "A7_sWwgMwHX9"
      },
      "outputs": [],
      "source": [
        "df[\"new_src\"] = df['src'].apply( lambda x : str(edit_ner((x), nlp, list_ent)) )"
      ]
    },
    {
      "cell_type": "code",
      "execution_count": null,
      "metadata": {
        "id": "cZO4akJQwHX9"
      },
      "outputs": [],
      "source": [
        "df[\"new_mt\"] = df['mt'].apply( lambda x : str(edit_ner((x), nlp_ger, list_ent_german)) )"
      ]
    },
    {
      "cell_type": "code",
      "source": [
        "df.to_csv(\"drive/MyDrive/Colab Notebooks/output_quest_ner.csv\")"
      ],
      "metadata": {
        "id": "Vl5N-sVEYGRD"
      },
      "execution_count": null,
      "outputs": []
    },
    {
      "cell_type": "code",
      "execution_count": null,
      "metadata": {
        "id": "cAxN0OB_07tz"
      },
      "outputs": [],
      "source": [
        "!pip install transquest"
      ]
    },
    {
      "cell_type": "code",
      "execution_count": null,
      "metadata": {
        "id": "7E4YBdPj07wI"
      },
      "outputs": [],
      "source": [
        "import torch\n",
        "\n",
        "from transquest.algo.sentence_level.monotransquest.run_model import MonoTransQuestModel\n",
        "\n",
        "\n",
        "model = MonoTransQuestModel(\"xlmroberta\", \"TransQuest/monotransquest-da-multilingual\", num_labels=1, use_cuda=torch.cuda.is_available())\n"
      ]
    },
    {
      "cell_type": "code",
      "execution_count": null,
      "metadata": {
        "id": "XN97Ivip07yf"
      },
      "outputs": [],
      "source": [
        "def transquest_model(src, tgt):    \n",
        "    predictions, _ = model.predict([[src,tgt]])\n",
        "    return round(predictions.item(),6)"
      ]
    },
    {
      "cell_type": "code",
      "source": [
        "df = pd.read_csv(\"drive/MyDrive/Colab Notebooks/output_quest_ner.csv\")"
      ],
      "metadata": {
        "id": "gFp-FIi2mB8D"
      },
      "execution_count": null,
      "outputs": []
    },
    {
      "cell_type": "code",
      "execution_count": null,
      "metadata": {
        "id": "d2V8PZGf070q"
      },
      "outputs": [],
      "source": [
        "df[\"tquest_ner\"] = df.apply( lambda x : transquest_model(x[\"new_src\"], x[\"new_mt\"]) , axis=1)"
      ]
    },
    {
      "cell_type": "code",
      "execution_count": null,
      "metadata": {
        "id": "8RpzX20E073B"
      },
      "outputs": [],
      "source": []
    },
    {
      "cell_type": "code",
      "execution_count": null,
      "metadata": {
        "id": "vW2_DmbQ075J"
      },
      "outputs": [],
      "source": [
        "df.to_csv(\"drive/MyDrive/Colab Notebooks/output_tquest_ner.csv\")"
      ]
    },
    {
      "cell_type": "code",
      "execution_count": null,
      "metadata": {
        "id": "QiFK3PAw0760"
      },
      "outputs": [],
      "source": []
    },
    {
      "cell_type": "code",
      "execution_count": null,
      "metadata": {
        "id": "rA2jPBmX079l"
      },
      "outputs": [],
      "source": [
        "import numpy as np\n",
        "from scipy.stats import pearsonr\n",
        "from sklearn.metrics import accuracy_score\n",
        "\n",
        "# Compute Pearson correlation coefficient\n",
        "def pearsonr_metric (x, y):\n",
        "    r, _ = pearsonr(y, x)\n",
        "    return (\"Pearson correlation coefficient: %.3f\" % r)\n",
        "\n",
        "# Compute mean absolute error\n",
        "def mae_metric (x, y):\n",
        "    mae = np.mean(np.abs(y - x))\n",
        "    return (\"Mean absolute error: %.3f\" % mae)\n",
        "\n",
        "# Compute root mean squared error\n",
        "def rmse_metric (x, y):\n",
        "    rmse = np.sqrt(np.mean((y - x)**2))\n",
        "    return (\"Root mean squared error: %.3f\" % rmse)\n",
        "\n",
        "\n"
      ]
    },
    {
      "cell_type": "code",
      "execution_count": null,
      "metadata": {
        "id": "uVw8yvcs2d_M"
      },
      "outputs": [],
      "source": [
        "print(\"transquest results using spacy NER\")\n",
        "print(mae_metric(df[\"final_score\"],df[\"tquest_ner\"]))\n",
        "print(rmse_metric(df[\"final_score\"],df[\"tquest_ner\"]))\n",
        "print(pearsonr_metric(df[\"final_score\"],df[\"tquest_ner\"]))"
      ]
    },
    {
      "cell_type": "code",
      "execution_count": null,
      "metadata": {
        "id": "9HInxC8v2eBf"
      },
      "outputs": [],
      "source": [
        "plot = df.plot.scatter(x=\"final_score\", y=\"tquest_ner\", title=\"tquest_ner\")\n",
        "plot"
      ]
    },
    {
      "cell_type": "code",
      "execution_count": null,
      "metadata": {
        "id": "xbbnY1u72eD6"
      },
      "outputs": [],
      "source": []
    },
    {
      "cell_type": "code",
      "execution_count": null,
      "metadata": {
        "id": "IdUkBrMj2eGE"
      },
      "outputs": [],
      "source": []
    },
    {
      "cell_type": "code",
      "execution_count": null,
      "metadata": {
        "id": "lFpl-lBd2eIR"
      },
      "outputs": [],
      "source": []
    },
    {
      "cell_type": "code",
      "execution_count": null,
      "metadata": {
        "id": "czyAbhnn2eKS"
      },
      "outputs": [],
      "source": []
    },
    {
      "cell_type": "code",
      "execution_count": null,
      "metadata": {
        "id": "pE39W0yD2eMr"
      },
      "outputs": [],
      "source": []
    },
    {
      "cell_type": "code",
      "execution_count": null,
      "metadata": {
        "id": "o51etwIQ2eOr"
      },
      "outputs": [],
      "source": []
    },
    {
      "cell_type": "code",
      "execution_count": null,
      "metadata": {
        "id": "4mtmZCFJ2eRy"
      },
      "outputs": [],
      "source": []
    }
  ],
  "metadata": {
    "colab": {
      "private_outputs": true,
      "provenance": []
    },
    "kernelspec": {
      "display_name": "base",
      "language": "python",
      "name": "python3"
    },
    "language_info": {
      "codemirror_mode": {
        "name": "ipython",
        "version": 3
      },
      "file_extension": ".py",
      "mimetype": "text/x-python",
      "name": "python",
      "nbconvert_exporter": "python",
      "pygments_lexer": "ipython3",
      "version": "3.10.9"
    },
    "vscode": {
      "interpreter": {
        "hash": "c3bb05cc2521480d131f401636101c73ff39b5ec6e444b426548f6161152fcd7"
      }
    },
    "accelerator": "TPU",
    "gpuClass": "standard"
  },
  "nbformat": 4,
  "nbformat_minor": 0
}